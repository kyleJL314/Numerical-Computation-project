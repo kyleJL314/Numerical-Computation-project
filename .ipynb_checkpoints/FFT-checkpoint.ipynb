{
 "cells": [
  {
   "cell_type": "code",
   "execution_count": 8,
   "id": "8975f1f6-4105-493d-9066-e354db842106",
   "metadata": {},
   "outputs": [
    {
     "name": "stderr",
     "output_type": "stream",
     "text": [
      "\u001b[32m\u001b[1m   Resolving\u001b[22m\u001b[39m package versions...\n",
      "\u001b[32m\u001b[1m  No Changes\u001b[22m\u001b[39m to `C:\\Users\\kyle\\.julia\\environments\\v1.7\\Project.toml`\n",
      "\u001b[32m\u001b[1m  No Changes\u001b[22m\u001b[39m to `C:\\Users\\kyle\\.julia\\environments\\v1.7\\Manifest.toml`\n"
     ]
    }
   ],
   "source": [
    "using Pkg\n",
    "\n",
    "Pkg.add(\"FFTW\")"
   ]
  },
  {
   "cell_type": "code",
   "execution_count": 1,
   "id": "3efd2939-e2ea-4aa9-a6ee-138d4e60c921",
   "metadata": {},
   "outputs": [
    {
     "data": {
      "text/plain": [
       "FFT (generic function with 1 method)"
      ]
     },
     "execution_count": 1,
     "metadata": {},
     "output_type": "execute_result"
    }
   ],
   "source": [
    "function FFT(P)\n",
    "   \n",
    "    n=length(P)\n",
    "    if n ==1\n",
    "        return P\n",
    "    end\n",
    "   \n",
    "        \n",
    "    w=MathConstants.e^(-2*pi*im/n)\n",
    "    P0=Vector{Complex{Float64}}()\n",
    "    P1=Vector{Complex{Float64}}()\n",
    "    for i in 1:n\n",
    "        if i%2==0\n",
    "            push!(P1,P[i])\n",
    "        else\n",
    "            push!(P0,P[i])\n",
    "        end\n",
    "    end\n",
    "    y0=FFT(P0)\n",
    "    y1=FFT(P1)\n",
    "    y = zeros(Complex{Float64},n)\n",
    "    n2 = trunc(Int,n/2)\n",
    "    for j in 1:n2 \n",
    "        y[j]=y0[j]+(w^(j-1))*y1[j]\n",
    "        y[j+ n2]=y0[j]-(w^(j-1))*y1[j]\n",
    "    end\n",
    "    return y\n",
    "   \n",
    "end\n",
    "    "
   ]
  },
  {
   "cell_type": "code",
   "execution_count": 2,
   "id": "10cbce88-71fa-4605-a13e-3f1f80083913",
   "metadata": {},
   "outputs": [],
   "source": [
    "using FFTW"
   ]
  },
  {
   "cell_type": "code",
   "execution_count": 3,
   "id": "ea4a9a6c-a0a7-48cb-bd54-a45f15518616",
   "metadata": {},
   "outputs": [
    {
     "name": "stdout",
     "output_type": "stream",
     "text": [
      "[0.09686775179595675, 0.1529300239310427, 0.7956613628289222, 0.8372318558436325, 0.5551559062715336, 0.004235513028612248, 0.039140408408510186, 0.4032711093718949]\n"
     ]
    },
    {
     "data": {
      "text/plain": [
       "8-element Vector{ComplexF64}:\n",
       "    2.884493931480105 + 0.0im\n",
       "  -1.2929605052192783 + 0.3595769461156743im\n",
       "   1.0833374282558723 - 0.18277811316994208im\n",
       "   0.4250390122758031 + 0.062187924310813714im\n",
       " -0.08915692712974055 + 0.0im\n",
       "   0.4250390122758032 - 0.06218792431081338im\n",
       "   1.0833374282558723 + 0.18277811316994208im\n",
       "  -1.2929605052192783 - 0.35957694611567464im"
      ]
     },
     "execution_count": 3,
     "metadata": {},
     "output_type": "execute_result"
    }
   ],
   "source": [
    "p= rand(Float64, 8)\n",
    "#println(im^2)\n",
    "println(p)\n",
    "#println(trunc(Int,10/2))\n",
    "\n",
    "FFT(p)"
   ]
  },
  {
   "cell_type": "code",
   "execution_count": 4,
   "id": "62e9d4d2-fc3f-4fa2-9a55-d57f5908ab99",
   "metadata": {},
   "outputs": [
    {
     "data": {
      "text/plain": [
       "8-element Vector{ComplexF64}:\n",
       "    2.884493931480105 + 0.0im\n",
       "  -0.6600018440901929 - 1.1685204380036793im\n",
       " -0.18277811316994208 + 1.0833374282558723im\n",
       " -0.25657446486096064 + 0.3445214708371446im\n",
       "  0.08915692712974055 + 0.0im\n",
       " -0.25657446486096064 - 0.3445214708371446im\n",
       " -0.18277811316994208 - 1.0833374282558723im\n",
       "  -0.6600018440901929 + 1.1685204380036793im"
      ]
     },
     "execution_count": 4,
     "metadata": {},
     "output_type": "execute_result"
    }
   ],
   "source": [
    "fft(p)"
   ]
  },
  {
   "cell_type": "code",
   "execution_count": 5,
   "id": "dfb01173-3cee-4904-8d0b-22465fb9b664",
   "metadata": {},
   "outputs": [
    {
     "data": {
      "text/plain": [
       "8-element Vector{ComplexF64}:\n",
       "  0.09686775179595675 + 0.0im\n",
       "  0.15293002393104269 + 0.0im\n",
       "   0.7956613628289222 + 0.0im\n",
       "   0.8372318558436325 + 0.0im\n",
       "   0.5551559062715336 + 0.0im\n",
       " 0.004235513028612303 + 0.0im\n",
       "  0.03914040840851024 + 0.0im\n",
       "   0.4032711093718948 + 0.0im"
      ]
     },
     "execution_count": 5,
     "metadata": {},
     "output_type": "execute_result"
    }
   ],
   "source": [
    "ifft(fft(p))"
   ]
  },
  {
   "cell_type": "code",
   "execution_count": 6,
   "id": "96082c1a-ff18-4822-b95b-ba171783c96c",
   "metadata": {},
   "outputs": [
    {
     "data": {
      "text/plain": [
       "8-element Vector{ComplexF64}:\n",
       "  0.40327110937189486 + 0.0im\n",
       "  0.03914040840851021 - 7.850462293418876e-17im\n",
       " 0.004235513028612248 + 1.3877787807814457e-17im\n",
       "   0.5551559062715336 + 3.9252311467094385e-17im\n",
       "   0.8372318558436325 + 0.0im\n",
       "   0.7956613628289223 + 7.850462293418876e-17im\n",
       "   0.1529300239310427 - 1.3877787807814457e-17im\n",
       "   0.0968677517959568 - 3.9252311467094385e-17im"
      ]
     },
     "execution_count": 6,
     "metadata": {},
     "output_type": "execute_result"
    }
   ],
   "source": [
    "ifft(FFT(p))"
   ]
  },
  {
   "cell_type": "code",
   "execution_count": null,
   "id": "85741f5f-5238-464c-99ef-84e07d2c6a3f",
   "metadata": {},
   "outputs": [],
   "source": []
  },
  {
   "cell_type": "code",
   "execution_count": null,
   "id": "898fc8ad-c0f9-40f9-a30d-5f58007d43e8",
   "metadata": {},
   "outputs": [],
   "source": []
  }
 ],
 "metadata": {
  "kernelspec": {
   "display_name": "Julia 1.7.2",
   "language": "julia",
   "name": "julia-1.7"
  },
  "language_info": {
   "file_extension": ".jl",
   "mimetype": "application/julia",
   "name": "julia",
   "version": "1.7.2"
  }
 },
 "nbformat": 4,
 "nbformat_minor": 5
}
