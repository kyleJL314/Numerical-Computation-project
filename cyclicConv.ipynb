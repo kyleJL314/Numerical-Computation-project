{
 "cells": [
  {
   "cell_type": "code",
   "execution_count": 3,
   "id": "5037540b-e303-4ccf-9044-b1a704151945",
   "metadata": {},
   "outputs": [],
   "source": [
    "using Pkg\n",
    "\n",
    "Pkg.add(\"FFTW\")"
   ]
  },
  {
   "cell_type": "code",
   "execution_count": 2,
   "id": "4d096599-d014-40e8-983b-ce62bb68793a",
   "metadata": {},
   "outputs": [],
   "source": [
    "using FFTW"
   ]
  },
  {
   "cell_type": "code",
   "execution_count": 3,
   "id": "ad8385af-7766-4631-ab64-051921678ad7",
   "metadata": {},
   "outputs": [
    {
     "data": {
      "text/plain": [
       "4-element Vector{ComplexF64}:\n",
       "  4.0 + 0.0im\n",
       " -2.0 + 0.0im\n",
       "  0.0 + 0.0im\n",
       " -2.0 + 0.0im"
      ]
     },
     "execution_count": 3,
     "metadata": {},
     "output_type": "execute_result"
    }
   ],
   "source": [
    "fft([0; 1; 2; 1])"
   ]
  },
  {
   "cell_type": "code",
   "execution_count": 4,
   "id": "ff0dd6da-4ab1-475d-826d-4d90e4f03601",
   "metadata": {},
   "outputs": [
    {
     "data": {
      "text/plain": [
       "DirectCyclicConv1D (generic function with 1 method)"
      ]
     },
     "execution_count": 4,
     "metadata": {},
     "output_type": "execute_result"
    }
   ],
   "source": [
    "function DirectCyclicConv1D(f,g)\n",
    "    N = length(f)\n",
    "    Conv = zeros(N)  \n",
    "\n",
    "    for n ∈ 1:N, m ∈ 1:N\n",
    "        if n-m+1 > 0\n",
    "            Conv[n] = Conv[n] + f[m] * g[n-m+1]\n",
    "        else\n",
    "            # make g periodic\n",
    "            Conv[n] = Conv[n] + f[m] * g[N+(n-m+1)]\n",
    "        end\n",
    "    end\n",
    "\n",
    "    return Conv\n",
    "\n",
    "end"
   ]
  },
  {
   "cell_type": "code",
   "execution_count": 5,
   "id": "0ecbefb7-ebe1-4a11-8441-0e8487ef307c",
   "metadata": {},
   "outputs": [
    {
     "data": {
      "text/plain": [
       "1×3 Matrix{Int64}:\n",
       " -1  2  -1"
      ]
     },
     "execution_count": 5,
     "metadata": {},
     "output_type": "execute_result"
    }
   ],
   "source": [
    "f=[3;4;5;1]\n",
    "g=[-1;3; 2 ;-1]"
   ]
  },
  {
   "cell_type": "code",
   "execution_count": 6,
   "id": "1ee50c2d-b5d2-42a9-8062-ea12e27118bc",
   "metadata": {},
   "outputs": [
    {
     "ename": "LoadError",
     "evalue": "BoundsError: attempt to access 1×3 Matrix{Int64} at index [42]",
     "output_type": "error",
     "traceback": [
      "BoundsError: attempt to access 1×3 Matrix{Int64} at index [42]",
      "",
      "Stacktrace:",
      " [1] getindex",
      "   @ ./array.jl:801 [inlined]",
      " [2] DirectCyclicConv1D(f::Matrix{Int64}, g::Matrix{Int64})",
      "   @ Main ./In[4]:10",
      " [3] top-level scope",
      "   @ In[6]:1",
      " [4] eval",
      "   @ ./boot.jl:360 [inlined]",
      " [5] include_string(mapexpr::typeof(REPL.softscope), mod::Module, code::String, filename::String)",
      "   @ Base ./loading.jl:1094"
     ]
    }
   ],
   "source": [
    "DirectCyclicConv1D(f,g)"
   ]
  },
  {
   "cell_type": "code",
   "execution_count": null,
   "id": "4900f37c-df35-403a-a5ef-37bd38e8ae20",
   "metadata": {},
   "outputs": [],
   "source": []
  }
 ],
 "metadata": {
  "kernelspec": {
   "display_name": "Julia 1.6.1",
   "language": "julia",
   "name": "julia-1.6"
  },
  "language_info": {
   "file_extension": ".jl",
   "mimetype": "application/julia",
   "name": "julia",
   "version": "1.6.1"
  }
 },
 "nbformat": 4,
 "nbformat_minor": 5
}
