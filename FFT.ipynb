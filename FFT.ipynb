{
 "cells": [
  {
   "cell_type": "code",
   "execution_count": 8,
   "id": "8975f1f6-4105-493d-9066-e354db842106",
   "metadata": {},
   "outputs": [
    {
     "name": "stderr",
     "output_type": "stream",
     "text": [
      "\u001b[32m\u001b[1m   Resolving\u001b[22m\u001b[39m package versions...\n",
      "\u001b[32m\u001b[1m  No Changes\u001b[22m\u001b[39m to `C:\\Users\\kyle\\.julia\\environments\\v1.7\\Project.toml`\n",
      "\u001b[32m\u001b[1m  No Changes\u001b[22m\u001b[39m to `C:\\Users\\kyle\\.julia\\environments\\v1.7\\Manifest.toml`\n"
     ]
    }
   ],
   "source": [
    "using Pkg\n",
    "\n",
    "Pkg.add(\"FFTW\")"
   ]
  },
  {
   "cell_type": "code",
   "execution_count": 1,
   "id": "3efd2939-e2ea-4aa9-a6ee-138d4e60c921",
   "metadata": {},
   "outputs": [
    {
     "data": {
      "text/plain": [
       "FFT (generic function with 1 method)"
      ]
     },
     "execution_count": 1,
     "metadata": {},
     "output_type": "execute_result"
    }
   ],
   "source": [
    "function FFT(P)\n",
    "   \n",
    "    n=length(P)\n",
    "    if n ==1\n",
    "        return P\n",
    "    end\n",
    "   \n",
    "        \n",
    "    w=MathConstants.e^(2*pi*im/n)\n",
    "    P0=Vector{Complex{Float64}}()\n",
    "    P1=Vector{Complex{Float64}}()\n",
    "    for i in 1:n\n",
    "        if i%2==0\n",
    "            push!(P1,P[i])\n",
    "        else\n",
    "            push!(P0,P[i])\n",
    "        end\n",
    "    end\n",
    "    y0=FFT(P0)\n",
    "    y1=FFT(P1)\n",
    "    y = zeros(Complex{Float64},n)\n",
    "    n2 = trunc(Int,n/2)\n",
    "    for j in 1:n2 \n",
    "        y[j]=y0[j]+(w^(j-1))*y1[j]\n",
    "        y[j+ n2 ]=y0[j]-(w^(j-1))*y1[j]\n",
    "    end\n",
    "    return y\n",
    "   \n",
    "end\n",
    "    "
   ]
  },
  {
   "cell_type": "code",
   "execution_count": 2,
   "id": "10cbce88-71fa-4605-a13e-3f1f80083913",
   "metadata": {},
   "outputs": [],
   "source": [
    "using FFTW"
   ]
  },
  {
   "cell_type": "code",
   "execution_count": 3,
   "id": "ea4a9a6c-a0a7-48cb-bd54-a45f15518616",
   "metadata": {},
   "outputs": [
    {
     "name": "stdout",
     "output_type": "stream",
     "text": [
      "[0.10960966678403272, 0.6025620488856163, 0.8251809793917854, 0.40579612583728264]\n"
     ]
    },
    {
     "data": {
      "text/plain": [
       "4-element Vector{ComplexF64}:\n",
       "   1.9431488208987169 + 0.0im\n",
       " -0.19676592304833357 + 0.7155713126077526im\n",
       "  0.07356752854708082 + 0.0im\n",
       " -0.19676592304833368 - 0.7155713126077526im"
      ]
     },
     "execution_count": 3,
     "metadata": {},
     "output_type": "execute_result"
    }
   ],
   "source": [
    "p= rand(Float64, 4)\n",
    "#println(im^2)\n",
    "println(p)\n",
    "#println(trunc(Int,10/2))\n",
    "\n",
    "FFT(p)"
   ]
  },
  {
   "cell_type": "code",
   "execution_count": 4,
   "id": "62e9d4d2-fc3f-4fa2-9a55-d57f5908ab99",
   "metadata": {},
   "outputs": [
    {
     "data": {
      "text/plain": [
       "4-element Vector{ComplexF64}:\n",
       "   1.9431488208987169 + 0.0im\n",
       "  -0.7155713126077526 - 0.19676592304833362im\n",
       " -0.07356752854708082 + 0.0im\n",
       "  -0.7155713126077526 + 0.19676592304833362im"
      ]
     },
     "execution_count": 4,
     "metadata": {},
     "output_type": "execute_result"
    }
   ],
   "source": [
    "fft(p)"
   ]
  },
  {
   "cell_type": "code",
   "execution_count": null,
   "id": "dfb01173-3cee-4904-8d0b-22465fb9b664",
   "metadata": {},
   "outputs": [],
   "source": []
  }
 ],
 "metadata": {
  "kernelspec": {
   "display_name": "Julia 1.7.2",
   "language": "julia",
   "name": "julia-1.7"
  },
  "language_info": {
   "file_extension": ".jl",
   "mimetype": "application/julia",
   "name": "julia",
   "version": "1.7.2"
  }
 },
 "nbformat": 4,
 "nbformat_minor": 5
}
